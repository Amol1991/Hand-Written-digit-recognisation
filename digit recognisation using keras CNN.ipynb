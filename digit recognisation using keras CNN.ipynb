{
  "nbformat": 4,
  "nbformat_minor": 0,
  "metadata": {
    "colab": {
      "name": "Untitled0.ipynb",
      "provenance": []
    },
    "kernelspec": {
      "name": "python3",
      "display_name": "Python 3"
    },
    "accelerator": "GPU"
  },
  "cells": [
    {
      "cell_type": "code",
      "metadata": {
        "id": "N2xz3FDDjNyi",
        "colab_type": "code",
        "colab": {
          "base_uri": "https://localhost:8080/",
          "height": 51
        },
        "outputId": "98448cd3-e514-40d8-e7ce-b9e2c67ddd1c"
      },
      "source": [
        "from keras.datasets import mnist\n",
        "(x_train,y_train),(x_test,y_test)=mnist.load_data()"
      ],
      "execution_count": null,
      "outputs": [
        {
          "output_type": "stream",
          "text": [
            "Downloading data from https://storage.googleapis.com/tensorflow/tf-keras-datasets/mnist.npz\n",
            "11493376/11490434 [==============================] - 0s 0us/step\n"
          ],
          "name": "stdout"
        }
      ]
    },
    {
      "cell_type": "code",
      "metadata": {
        "id": "pGRRN4Kirvlg",
        "colab_type": "code",
        "colab": {
          "base_uri": "https://localhost:8080/",
          "height": 299
        },
        "outputId": "aa2a2b8b-5322-4307-93f5-cdb1ca4e29ff"
      },
      "source": [
        "import matplotlib.pyplot as plt\n",
        "img_index=3\n",
        "print(y_train[img_index])\n",
        "plt.imshow(x_train[img_index],cmap=\"Greys\")"
      ],
      "execution_count": null,
      "outputs": [
        {
          "output_type": "stream",
          "text": [
            "1\n"
          ],
          "name": "stdout"
        },
        {
          "output_type": "execute_result",
          "data": {
            "text/plain": [
              "<matplotlib.image.AxesImage at 0x7f5af700aa90>"
            ]
          },
          "metadata": {
            "tags": []
          },
          "execution_count": 3
        },
        {
          "output_type": "display_data",
          "data": {
            "image/png": "[encoded data removed]",
            "text/plain": [
              "<Figure size 432x288 with 1 Axes>"
            ]
          },
          "metadata": {
            "tags": [],
            "needs_background": "light"
          }
        }
      ]
    },
    {
      "cell_type": "code",
      "metadata": {
        "id": "JIOWJIsCrvoK",
        "colab_type": "code",
        "colab": {}
      },
      "source": [
        "#reshape the data.\n",
        "x_train=x_train.reshape(x_train.shape[0],28,28,1)\n",
        "x_test=x_test.reshape(x_test.shape[0],28,28,1)"
      ],
      "execution_count": null,
      "outputs": []
    },
    {
      "cell_type": "code",
      "metadata": {
        "id": "Fj4VJWfqrvrE",
        "colab_type": "code",
        "colab": {
          "base_uri": "https://localhost:8080/",
          "height": 51
        },
        "outputId": "1b45dfcf-182a-4887-b806-01b7060a3778"
      },
      "source": [
        "print(x_train.shape)\n",
        "print(x_test.shape)"
      ],
      "execution_count": null,
      "outputs": [
        {
          "output_type": "stream",
          "text": [
            "(60000, 28, 28, 1)\n",
            "(10000, 28, 28, 1)\n"
          ],
          "name": "stdout"
        }
      ]
    },
    {
      "cell_type": "code",
      "metadata": {
        "id": "sZCsyZF4uKsK",
        "colab_type": "code",
        "colab": {}
      },
      "source": [
        "#normalize the data between 0 to 1.gray_scale image lies between 0 to 255\n",
        "x_train=x_train/255\n",
        "x_test=x_test/255"
      ],
      "execution_count": null,
      "outputs": []
    },
    {
      "cell_type": "code",
      "metadata": {
        "id": "L71Np18xrvtb",
        "colab_type": "code",
        "colab": {}
      },
      "source": [
        "#convert dependent variable into catogorical.\n",
        "from keras.utils import to_categorical\n",
        "y_train=to_categorical(y_train,num_classes=10)\n",
        "y_test=to_categorical(y_test,num_classes=10)"
      ],
      "execution_count": null,
      "outputs": []
    },
    {
      "cell_type": "code",
      "metadata": {
        "id": "7mskca3Nt23i",
        "colab_type": "code",
        "colab": {}
      },
      "source": [
        "#Design a Model.\n",
        "#The “softmax” activation is used when we’d like to classify the data into a number of pre-decided classes\n",
        "row_shape=28\n",
        "col_shape=28\n",
        "num_classes=10\n",
        "from keras import Sequential\n",
        "from keras.layers import Dense,Dropout,Flatten,Conv2D,MaxPooling2D,BatchNormalization\n",
        "\n",
        "model= Sequential()\n",
        "model.add(Conv2D(32,(3, 3),activation=\"relu\",input_shape=(row_shape,col_shape,1)))\n",
        "model.add(Conv2D(64,(2,2),activation=\"relu\"))\n",
        "model.add(MaxPooling2D(pool_size=(2,2)))\n",
        "model.add(Dropout(0.25))\n",
        "model.add(Flatten())\n",
        "model.add(Dense(128,activation=\"relu\"))\n",
        "model.add(Dropout(0.25))\n",
        "model.add(BatchNormalization())\n",
        "model.add(Dense(num_classes,activation=\"softmax\"))\n"
      ],
      "execution_count": null,
      "outputs": []
    },
    {
      "cell_type": "code",
      "metadata": {
        "id": "LY0bT-_pvhpe",
        "colab_type": "code",
        "colab": {}
      },
      "source": [
        "#Compile and Train Model.\n",
        "model.compile(optimizer=\"Adam\",\n",
        "              loss=\"categorical_crossentropy\",\n",
        "              metrics=[\"accuracy\"])"
      ],
      "execution_count": null,
      "outputs": []
    },
    {
      "cell_type": "code",
      "metadata": {
        "id": "mOuTJZ_9vhuB",
        "colab_type": "code",
        "colab": {
          "base_uri": "https://localhost:8080/",
          "height": 408
        },
        "outputId": "7989d8c4-245b-443d-a02d-e9038780047d"
      },
      "source": [
        "batch_size=128\n",
        "epoch=10\n",
        "\n",
        "model.fit(x_train,\n",
        "          y_train,\n",
        "          batch_size=batch_size,\n",
        "          epochs=epoch,\n",
        "          verbose=1,\n",
        "          validation_data=(x_test, y_test))\n",
        "\n",
        "score=model.evaluate(x_test,y_test,verbose=1)\n",
        "\n",
        "print(\"test loss=\",score[0])\n",
        "print(\"test accuracy=\",score[1])\n",
        "\n",
        "model.save(\"model.h5\")"
      ],
      "execution_count": null,
      "outputs": [
        {
          "output_type": "stream",
          "text": [
            "Epoch 1/10\n",
            "469/469 [==============================] - 3s 7ms/step - loss: 0.1413 - accuracy: 0.9592 - val_loss: 0.0590 - val_accuracy: 0.9836\n",
            "Epoch 2/10\n",
            "469/469 [==============================] - 3s 6ms/step - loss: 0.0485 - accuracy: 0.9862 - val_loss: 0.0369 - val_accuracy: 0.9878\n",
            "Epoch 3/10\n",
            "469/469 [==============================] - 3s 6ms/step - loss: 0.0364 - accuracy: 0.9889 - val_loss: 0.0299 - val_accuracy: 0.9897\n",
            "Epoch 4/10\n",
            "469/469 [==============================] - 3s 6ms/step - loss: 0.0263 - accuracy: 0.9920 - val_loss: 0.0311 - val_accuracy: 0.9898\n",
            "Epoch 5/10\n",
            "469/469 [==============================] - 3s 6ms/step - loss: 0.0211 - accuracy: 0.9934 - val_loss: 0.0377 - val_accuracy: 0.9891\n",
            "Epoch 6/10\n",
            "469/469 [==============================] - 3s 6ms/step - loss: 0.0180 - accuracy: 0.9943 - val_loss: 0.0314 - val_accuracy: 0.9898\n",
            "Epoch 7/10\n",
            "469/469 [==============================] - 3s 7ms/step - loss: 0.0157 - accuracy: 0.9951 - val_loss: 0.0284 - val_accuracy: 0.9923\n",
            "Epoch 8/10\n",
            "469/469 [==============================] - 3s 6ms/step - loss: 0.0137 - accuracy: 0.9959 - val_loss: 0.0328 - val_accuracy: 0.9899\n",
            "Epoch 9/10\n",
            "469/469 [==============================] - 3s 6ms/step - loss: 0.0120 - accuracy: 0.9963 - val_loss: 0.0334 - val_accuracy: 0.9905\n",
            "Epoch 10/10\n",
            "469/469 [==============================] - 3s 7ms/step - loss: 0.0108 - accuracy: 0.9968 - val_loss: 0.0318 - val_accuracy: 0.9911\n",
            "313/313 [==============================] - 1s 2ms/step - loss: 0.0318 - accuracy: 0.9911\n",
            "test loss= 0.031770918518304825\n",
            "test accuracy= 0.991100013256073\n"
          ],
          "name": "stdout"
        }
      ]
    },
    {
      "cell_type": "code",
      "metadata": {
        "id": "PEBH98NKvhyw",
        "colab_type": "code",
        "colab": {
          "base_uri": "https://localhost:8080/",
          "height": 459
        },
        "outputId": "0aa07f47-f5c6-4785-c0c5-b8e5dd732498"
      },
      "source": [
        "model.summary(line_length=100)"
      ],
      "execution_count": null,
      "outputs": [
        {
          "output_type": "stream",
          "text": [
            "Model: \"sequential_3\"\n",
            "____________________________________________________________________________________________________\n",
            "Layer (type)                                 Output Shape                            Param #        \n",
            "====================================================================================================\n",
            "conv2d_6 (Conv2D)                            (None, 26, 26, 32)                      320            \n",
            "____________________________________________________________________________________________________\n",
            "conv2d_7 (Conv2D)                            (None, 25, 25, 64)                      8256           \n",
            "____________________________________________________________________________________________________\n",
            "max_pooling2d_3 (MaxPooling2D)               (None, 12, 12, 64)                      0              \n",
            "____________________________________________________________________________________________________\n",
            "dropout_6 (Dropout)                          (None, 12, 12, 64)                      0              \n",
            "____________________________________________________________________________________________________\n",
            "flatten_3 (Flatten)                          (None, 9216)                            0              \n",
            "____________________________________________________________________________________________________\n",
            "dense_5 (Dense)                              (None, 128)                             1179776        \n",
            "____________________________________________________________________________________________________\n",
            "dropout_7 (Dropout)                          (None, 128)                             0              \n",
            "____________________________________________________________________________________________________\n",
            "batch_normalization (BatchNormalization)     (None, 128)                             512            \n",
            "____________________________________________________________________________________________________\n",
            "dense_6 (Dense)                              (None, 10)                              1290           \n",
            "====================================================================================================\n",
            "Total params: 1,190,154\n",
            "Trainable params: 1,189,898\n",
            "Non-trainable params: 256\n",
            "____________________________________________________________________________________________________\n"
          ],
          "name": "stdout"
        }
      ]
    },
    {
      "cell_type": "code",
      "metadata": {
        "id": "-UFJvQamvhtd",
        "colab_type": "code",
        "colab": {
          "base_uri": "https://localhost:8080/",
          "height": 953
        },
        "outputId": "96b7f946-8636-453f-b2ea-68ee5764fb3c"
      },
      "source": [
        "import tensorflow as tf\n",
        "tf.keras.utils.plot_model(model)"
      ],
      "execution_count": null,
      "outputs": [
        {
          "output_type": "execute_result",
          "data": {
            "image/png": "[encoded data removed]",
            "text/plain": [
              "<IPython.core.display.Image object>"
            ]
          },
          "metadata": {
            "tags": []
          },
          "execution_count": 34
        }
      ]
    },
    {
      "cell_type": "code",
      "metadata": {
        "id": "eDSz9_Jwvhok",
        "colab_type": "code",
        "colab": {}
      },
      "source": [
        ""
      ],
      "execution_count": null,
      "outputs": []
    }
  ]
}